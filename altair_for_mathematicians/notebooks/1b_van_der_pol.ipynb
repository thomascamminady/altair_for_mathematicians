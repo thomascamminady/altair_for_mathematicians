{
 "cells": [
  {
   "attachments": {},
   "cell_type": "markdown",
   "metadata": {},
   "source": [
    "## Van der Pol oscillator"
   ]
  },
  {
   "cell_type": "code",
   "execution_count": null,
   "metadata": {},
   "outputs": [],
   "source": [
    "import altair as alt\n",
    "import numpy as np\n",
    "import pandas as pd\n",
    "import scipy\n",
    "\n",
    "alt.data_transformers.disable_max_rows();"
   ]
  },
  {
   "attachments": {},
   "cell_type": "markdown",
   "metadata": {},
   "source": [
    "To be honest, I don't know much about the [Van der Pol oscillator](https://en.wikipedia.org/wiki/Van_der_Pol_oscillator), I only needed another simple differential equation that has a parameter.\n"
   ]
  },
  {
   "cell_type": "code",
   "execution_count": null,
   "metadata": {},
   "outputs": [],
   "source": [
    "def ode(y, t, mu=1.0):\n",
    "    return (\n",
    "        y[1],\n",
    "        mu * (1 - y[0] ** 2) * y[1] - y[0],\n",
    "    )"
   ]
  },
  {
   "attachments": {},
   "cell_type": "markdown",
   "metadata": {},
   "source": [
    "### Simple example\n",
    "Let's start with a simple example. We fix a parameter of $\\mu$ and some initial values.\n",
    "We then solve the differential equation and store the data inside a `pd.DataFrame`."
   ]
  },
  {
   "cell_type": "code",
   "execution_count": null,
   "metadata": {},
   "outputs": [],
   "source": [
    "t = np.arange(0, 10, step=0.02)\n",
    "y = scipy.integrate.odeint(ode, y0=[0.01, 0.01], t=t, args=(-0.2,))\n",
    "df = pd.DataFrame({\"Time\": t, \"y0\": y[:, 0], \"y1\": y[:, 1]})"
   ]
  },
  {
   "attachments": {},
   "cell_type": "markdown",
   "metadata": {},
   "source": [
    "Next we can again plot the solution phase-space, as well as in time."
   ]
  },
  {
   "cell_type": "code",
   "execution_count": null,
   "metadata": {},
   "outputs": [],
   "source": [
    "base = alt.Chart(df).mark_line(clip=True).properties(width=500, height=300)\n",
    "\n",
    "\n",
    "chart_timeseries = base.transform_fold([\"y0\", \"y1\"], [\"Variable\", \"Value\"]).encode(\n",
    "    x=alt.X(\"Time\", scale=alt.Scale(zero=False)),\n",
    "    y=alt.Y(\"Value:Q\", scale=alt.Scale(zero=False)),\n",
    "    color=alt.Color(\"Variable:N\", scale=alt.Scale(scheme=\"tableau10\")),\n",
    ")\n",
    "\n",
    "chart_phasespace = base.encode(\n",
    "    x=alt.X(\"y0:Q\", scale=alt.Scale(zero=False), sort=None),\n",
    "    y=alt.Y(\"y1:Q\", scale=alt.Scale(zero=False)),\n",
    ")\n",
    "\n",
    "\n",
    "(chart_phasespace & chart_timeseries).properties(title=\"Hopf bifurcation\")"
   ]
  },
  {
   "attachments": {},
   "cell_type": "markdown",
   "metadata": {},
   "source": [
    "### An example with uncertainty\n",
    "Next, we want to introduce some uncertainty into our system. Assume that we do not know the parameters\n",
    "of our system exactly. Instead we run a couple of simulations, each with it's own parameter $\\mu$ that \n",
    "is sampled from some distribution. \n",
    "\n",
    "We can easily create this data by solving the ODE repeatedly and keeping track of the parameter that was used."
   ]
  },
  {
   "cell_type": "code",
   "execution_count": null,
   "metadata": {},
   "outputs": [],
   "source": [
    "df = pd.DataFrame()\n",
    "for sample in range(10):\n",
    "    sigma = 0.1\n",
    "    mu = sigma * np.random.randn()\n",
    "    t = np.arange(0, 20, step=0.1)\n",
    "    y = scipy.integrate.odeint(ode, y0=[1, 1], t=t, args=(mu,))\n",
    "\n",
    "    df = pd.concat(\n",
    "        [\n",
    "            df,\n",
    "            pd.DataFrame({\"Time\": t, \"y0\": y[:, 0], \"y1\": y[:, 1], \"mu\": mu}),\n",
    "        ]\n",
    "    )"
   ]
  },
  {
   "attachments": {},
   "cell_type": "markdown",
   "metadata": {},
   "source": [
    "We again create a couple of charts, one for the phase-space, one plotting the solution against time, and one \n",
    "averaging the data that we created. The last chart will show the mean of the solution together with the confidence interval. "
   ]
  },
  {
   "cell_type": "code",
   "execution_count": null,
   "metadata": {},
   "outputs": [],
   "source": [
    "selection = alt.selection_point(fields=[\"mu\"], on=\"mouseover\", toggle=True)\n",
    "\n",
    "base = (\n",
    "    alt.Chart(df)\n",
    "    .mark_line(clip=True, strokeWidth=3)\n",
    "    .add_params(selection)\n",
    "    .properties(width=500, height=200)\n",
    ")\n",
    "\n",
    "base_nonavg = base.encode(\n",
    "    tooltip=list(df),\n",
    "    detail=alt.Detail(\"mu:N\"),\n",
    "    opacity=alt.condition(selection, alt.value(1.0), alt.value(0.1)),\n",
    ")\n",
    "\n",
    "base_avg = base.transform_fold([\"y0\", \"y1\"], [\"Variable\", \"Value\"]).encode(\n",
    "    x=alt.X(\"Time:Q\", scale=alt.Scale(zero=False)),\n",
    "    color=alt.Color(\"Variable:N\", scale=alt.Scale(scheme=\"tableau10\")),\n",
    ")\n",
    "\n",
    "chart_timeseries = base_nonavg.transform_fold(\n",
    "    [\"y0\", \"y1\"], [\"Variable\", \"Value\"]\n",
    ").encode(\n",
    "    x=alt.X(\"Time:Q\", scale=alt.Scale(zero=False)),\n",
    "    y=alt.Y(\"Value:Q\", scale=alt.Scale(zero=False)),\n",
    "    color=alt.Color(\"Variable:N\", scale=alt.Scale(scheme=\"tableau10\")),\n",
    ")\n",
    "\n",
    "chart_phasespace = base_nonavg.encode(\n",
    "    x=alt.X(\"y0:Q\", scale=alt.Scale(zero=False), sort=None),\n",
    "    y=alt.Y(\"y1:Q\", scale=alt.Scale(zero=False)),\n",
    "    color=alt.Color(\"mu:Q\", scale=alt.Scale(scheme=\"purpleorange\")),\n",
    ")\n",
    "\n",
    "\n",
    "band = base_avg.mark_errorband(extent=\"ci\", borders=False).encode(\n",
    "    y=alt.Y(\"Value:Q\", scale=alt.Scale(zero=False))\n",
    ")\n",
    "lines = base_avg.encode(y=alt.Y(\"mean(Value):Q\", scale=alt.Scale(zero=False)))"
   ]
  },
  {
   "attachments": {},
   "cell_type": "markdown",
   "metadata": {},
   "source": [
    "Putting all charts together, we see the following interactive chart."
   ]
  },
  {
   "cell_type": "code",
   "execution_count": null,
   "metadata": {},
   "outputs": [],
   "source": [
    "(chart_phasespace & chart_timeseries & (band + lines)).properties(\n",
    "    title=alt.Title(\"Van der Pol oscillator\", dy=-20)\n",
    ")"
   ]
  }
 ],
 "metadata": {
  "kernelspec": {
   "display_name": ".venv",
   "language": "python",
   "name": "python3"
  },
  "language_info": {
   "codemirror_mode": {
    "name": "ipython",
    "version": 3
   },
   "file_extension": ".py",
   "mimetype": "text/x-python",
   "name": "python",
   "nbconvert_exporter": "python",
   "pygments_lexer": "ipython3",
   "version": "3.10.10"
  }
 },
 "nbformat": 4,
 "nbformat_minor": 2
}
