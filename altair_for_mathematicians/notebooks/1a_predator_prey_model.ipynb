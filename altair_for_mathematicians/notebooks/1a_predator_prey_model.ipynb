{
 "cells": [
  {
   "attachments": {},
   "cell_type": "markdown",
   "metadata": {},
   "source": [
    "# Predator prey model"
   ]
  },
  {
   "attachments": {},
   "cell_type": "markdown",
   "metadata": {},
   "source": [
    "Import statements are hidden below."
   ]
  },
  {
   "cell_type": "code",
   "execution_count": null,
   "metadata": {
    "tags": [
     "hide-input"
    ]
   },
   "outputs": [],
   "source": [
    "import altair as alt\n",
    "import numpy as np\n",
    "import pandas as pd\n",
    "import scipy"
   ]
  },
  {
   "attachments": {},
   "cell_type": "markdown",
   "metadata": {},
   "source": [
    "## Model\n",
    "\n",
    "Let's start with one of the simples models for dynamical systems, the predator-prey model. \n",
    "Here, the population of the prey ($x$) and the predator ($y$) follow the following differential equation:\n",
    "\n",
    "$$\n",
    "\\begin{aligned}\n",
    "    \\frac{dx}{dt} &= \\alpha x - \\beta x  y \\\\\n",
    "    \\frac{dy}{dt} &= \\delta x  y - \\gamma y\n",
    "\\end{aligned}\n",
    "$$\n",
    "\n",
    "The constants $\\alpha$, $\\beta$, $\\gamma$, and $\\delta$ describe the population gain and loss.\n",
    "Implementing this in code with some default parameters, we get the following two functions. Note that the second function is just a wrapper that can be used by the integrator later on. "
   ]
  },
  {
   "cell_type": "code",
   "execution_count": null,
   "metadata": {},
   "outputs": [],
   "source": [
    "def predator_prey_model(predator, prey):\n",
    "    alpha, beta, gamma, delta = 2.0, 0.5, 2.0, 0.6\n",
    "    return (\n",
    "        alpha * prey - beta * prey * predator,\n",
    "        delta * prey * predator - gamma * predator,\n",
    "    )\n",
    "\n",
    "\n",
    "def predator_prey_ode_wrapper(y, t):\n",
    "    return predator_prey_model(y[1], y[0])"
   ]
  },
  {
   "attachments": {},
   "cell_type": "markdown",
   "metadata": {},
   "source": [
    "## Solving the differential equation\n",
    "\n",
    "We use `scipy` to solve the differential equation over a certain time interval `t`. \n",
    "Our integrator requires an initial population of predators and prey. Here, we solve the differential\n",
    "equation four times, each time with different initial conditions. The resulting data is\n",
    "aggregated into a `pd.DataFrame` and each simulation run gets its own unique ID. "
   ]
  },
  {
   "cell_type": "code",
   "execution_count": null,
   "metadata": {},
   "outputs": [],
   "source": [
    "t = np.arange(0, 5, step=0.01)\n",
    "source_list = []\n",
    "for id, y0 in enumerate([[10, 10], [5, 10], [10, 5], [5, 5]]):\n",
    "    predator_prey = scipy.integrate.odeint(predator_prey_ode_wrapper, y0=y0, t=t)\n",
    "    source_list.append(\n",
    "        pd.DataFrame(\n",
    "            {\n",
    "                \"Time\": t,\n",
    "                \"Prey\": predator_prey[:, 0],\n",
    "                \"Predator\": predator_prey[:, 1],\n",
    "                \"ID\": id,\n",
    "            }\n",
    "        )\n",
    "    )\n",
    "source = pd.concat(source_list)"
   ]
  },
  {
   "attachments": {},
   "cell_type": "markdown",
   "metadata": {},
   "source": [
    "In addition to solving the differential equation, we also want to visualize the vector field.\n",
    "In this case, the vector field tells us at every point in phase-space, what the change in population is for the predators and the prey. "
   ]
  },
  {
   "cell_type": "code",
   "execution_count": null,
   "metadata": {},
   "outputs": [],
   "source": [
    "prey = np.arange(source[\"Prey\"].max())\n",
    "predator = np.arange(source[\"Predator\"].max())\n",
    "predator, prey = np.meshgrid(predator, prey)\n",
    "predator, prey = predator.flatten(), prey.flatten()\n",
    "dPrey, dPredator = predator_prey_model(predator, prey)"
   ]
  },
  {
   "attachments": {},
   "cell_type": "markdown",
   "metadata": {},
   "source": [
    "We also store this data inside a `pd.DataFrame`."
   ]
  },
  {
   "cell_type": "code",
   "execution_count": null,
   "metadata": {},
   "outputs": [],
   "source": [
    "source_vector_field = pd.DataFrame(\n",
    "    {\n",
    "        \"Predator\": predator,\n",
    "        \"Prey\": prey,\n",
    "        \"Angle\": np.arctan2(dPredator, dPrey),\n",
    "        \"Population Change\": dPrey + dPredator,\n",
    "    }\n",
    ")"
   ]
  },
  {
   "attachments": {},
   "cell_type": "markdown",
   "metadata": {},
   "source": [
    "## Visualization\n",
    "Now we visualize the data. We will create two plots, one showing the phase-space with \n",
    "the vector field, and one showing the evolution of the populations over time.\n",
    "The phase-space diagram and the time series are using the same data so we can create \n",
    "a base chart that contains all the common content. We also add a `selection` that allows\n",
    "us to highlight different runs of our simulation later on.\n",
    "We use `detail` as a way to tell our `altair` plot that we want separate lines for data that otherwise does not differ in any of the parameters that we are using for the visualization.\n"
   ]
  },
  {
   "cell_type": "code",
   "execution_count": null,
   "metadata": {},
   "outputs": [],
   "source": [
    "selection = alt.selection_point(fields=[\"ID\"], on=\"mouseover\", toggle=True)\n",
    "base = (\n",
    "    alt.Chart(source)\n",
    "    .mark_line()\n",
    "    .encode(\n",
    "        detail=\"ID\",\n",
    "        opacity=alt.condition(selection, alt.value(1), alt.value(0.1)),\n",
    "    )\n",
    "    .add_params(selection)\n",
    "    .properties(width=500, height=300)\n",
    ")"
   ]
  },
  {
   "attachments": {},
   "cell_type": "markdown",
   "metadata": {},
   "source": [
    "With this base chart, we create the time series and the phase-space diagram next.\n",
    "For the time series, we have to transform our wide `pd.DataFrame` into a long `pd.DataFrame` using [`transform_fold`](https://altair-viz.github.io/user_guide/transform/fold.html#user-guide-fold-transform). "
   ]
  },
  {
   "cell_type": "code",
   "execution_count": null,
   "metadata": {},
   "outputs": [],
   "source": [
    "chart_time_series = (\n",
    "    base.transform_fold([\"Predator\", \"Prey\"], [\"Species\", \"Population\"])\n",
    "    .encode(\n",
    "        x=\"Time:Q\",\n",
    "        y=\"Population:Q\",\n",
    "        color=\"Species:N\",\n",
    "    )\n",
    "    .properties(title=\"Time series\")\n",
    ")\n",
    "chart_phase_space = base.encode(\n",
    "    x=alt.X(\"Predator:Q\", sort=None),\n",
    "    y=alt.Y(\"Prey:Q\"),\n",
    "    color=alt.value(\"black\"),\n",
    ").properties(title=\"Phase space\")"
   ]
  },
  {
   "attachments": {},
   "cell_type": "markdown",
   "metadata": {},
   "source": [
    "Next we create the vector field using the `wedge` shape. Each arrow in phase-space\n",
    "points at an angle that represents the change in the populations."
   ]
  },
  {
   "cell_type": "code",
   "execution_count": null,
   "metadata": {},
   "outputs": [],
   "source": [
    "chart_vector_field = (\n",
    "    alt.Chart(source_vector_field)\n",
    "    .mark_point(shape=\"wedge\", filled=True, size=500)\n",
    "    .encode(\n",
    "        x=alt.X(\"Predator:Q\", sort=None),\n",
    "        y=alt.Y(\"Prey:Q\"),\n",
    "        angle=alt.Angle(\n",
    "            \"Angle\", scale=alt.Scale(domain=[-np.pi, np.pi], range=[-180, 180])\n",
    "        ),\n",
    "        color=alt.Color(\"Population Change:Q\"),\n",
    "    )\n",
    ")"
   ]
  },
  {
   "attachments": {},
   "cell_type": "markdown",
   "metadata": {},
   "source": [
    "At last, we combine our plots to get the final result. \n",
    "Try to hover over some of the lines and you will see the runs of our simulations being highlighted in both charts."
   ]
  },
  {
   "cell_type": "code",
   "execution_count": null,
   "metadata": {},
   "outputs": [],
   "source": [
    "chart_time_series & chart_vector_field + chart_phase_space"
   ]
  }
 ],
 "metadata": {
  "kernelspec": {
   "display_name": "dumpster-p-2bOciZ-py3.10",
   "language": "python",
   "name": "python3"
  },
  "language_info": {
   "codemirror_mode": {
    "name": "ipython",
    "version": 3
   },
   "file_extension": ".py",
   "mimetype": "text/x-python",
   "name": "python",
   "nbconvert_exporter": "python",
   "pygments_lexer": "ipython3",
   "version": "3.10.10"
  }
 },
 "nbformat": 4,
 "nbformat_minor": 2
}
